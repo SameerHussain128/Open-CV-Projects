{
 "cells": [
  {
   "cell_type": "code",
   "execution_count": null,
   "id": "4516ac3f",
   "metadata": {},
   "outputs": [],
   "source": [
    "# ! pip install opencv-python"
   ]
  },
  {
   "cell_type": "code",
   "execution_count": null,
   "id": "d1596301",
   "metadata": {},
   "outputs": [],
   "source": [
    "%%cmd\n",
    "where python"
   ]
  },
  {
   "cell_type": "code",
   "execution_count": null,
   "id": "701f9a5c",
   "metadata": {},
   "outputs": [],
   "source": [
    "%%cmd\n",
    "pip install cmake"
   ]
  },
  {
   "cell_type": "code",
   "execution_count": null,
   "id": "e51c16e5",
   "metadata": {},
   "outputs": [],
   "source": [
    "%%cmd\n",
    "pip install dlib"
   ]
  },
  {
   "cell_type": "code",
   "execution_count": null,
   "id": "74bcbd66",
   "metadata": {},
   "outputs": [],
   "source": [
    "%%cmd\n",
    "pip install face-recognition"
   ]
  },
  {
   "cell_type": "code",
   "execution_count": null,
   "id": "3a3b3ab0",
   "metadata": {},
   "outputs": [],
   "source": [
    "%%cmd\n",
    "python --version"
   ]
  },
  {
   "cell_type": "code",
   "execution_count": null,
   "id": "c5f625a1",
   "metadata": {},
   "outputs": [],
   "source": [
    "%%cmd\n",
    "pip install \"C:\\Users\\SAMEER\\Projects\\Deep Learning\\Open CV\\Face Recognization\\dlib-19.24.1-cp311-cp311-win_amd64.whl\""
   ]
  },
  {
   "cell_type": "code",
   "execution_count": null,
   "id": "f85b7f17",
   "metadata": {},
   "outputs": [],
   "source": [
    "## dlib-19.24.1-cp311-cp311-win_amd64.whl"
   ]
  },
  {
   "cell_type": "markdown",
   "id": "e6d08aa8",
   "metadata": {},
   "source": [
    "# Exegute this Code 👇"
   ]
  },
  {
   "cell_type": "code",
   "execution_count": 1,
   "id": "0f258f7c",
   "metadata": {},
   "outputs": [],
   "source": [
    "import cv2\n",
    "import numpy as np\n",
    "import face_recognition\n",
    "\n",
    "video_capture = cv2.VideoCapture(0)\n",
    "\n",
    "ayaan_img = face_recognition.load_image_file(\"ayaan.jpg\")\n",
    "ayaan_encoding = face_recognition.face_encodings(ayaan_img)[0]\n",
    "\n",
    "sameer_img = face_recognition.load_image_file(\"sameer.jpg\")\n",
    "sameer_encoding = face_recognition.face_encodings(sameer_img)[0]\n",
    "\n",
    "known_face_encodings = [ayaan_encoding, sameer_encoding]\n",
    "known_face_names = [\"Ayaan\", \"Sameer\"]\n",
    "\n",
    "# Initialize Detection variables\n",
    "\n",
    "face_locations = []\n",
    "face_encodings = []\n",
    "s = True\n",
    "\n",
    "# Main Loop for facial recognition\n",
    "\n",
    "while True:\n",
    "    ret, frame = video_capture.read()\n",
    "    small_frame = cv2.resize(frame, (0, 0), fx=0.25, fy=0.25)\n",
    "    rgb_small_frame = np.ascontiguousarray((small_frame[:, :, ::-1]))\n",
    "\n",
    "    # Face Recognition processing (the actual stuff)\n",
    "\n",
    "    if s:\n",
    "        face_locations = face_recognition.face_locations(rgb_small_frame)\n",
    "        face_encodings = face_recognition.face_encodings(rgb_small_frame, face_locations)\n",
    "        face_names = []\n",
    "        for face_encoding in face_encodings:\n",
    "            matches = face_recognition.compare_faces(known_face_encodings, face_encoding)\n",
    "            name = \"\"\n",
    "            face_distance = face_recognition.face_distance(known_face_encodings, face_encoding)\n",
    "            best_match_index = np.argmin(face_distance)\n",
    "            if matches[best_match_index]:\n",
    "                name = known_face_names[best_match_index]\n",
    "                y1, x2, y2, x1 = face_locations[0]  # top, right, bottom, Left\n",
    "                y1, x2, y2, x1 = y1 * 4, x2 * 4, y2 * 4, x1 * 4\n",
    "                cv2.rectangle(frame, (x1, y1), (x2, y2), (0, 255, 0), 2)\n",
    "                cv2.putText(frame, name, (x1 + 6, y2 - 6), cv2.FONT_HERSHEY_PLAIN, 1, (0, 0, 255), 2)\n",
    "\n",
    "        cv2.imshow(\"FaceRecognition\", frame)\n",
    "        if cv2.waitKey(1) & 0xFF == ord('q'):\n",
    "            break  # Break the loop if 'q' is pressed\n",
    "\n",
    "# Release the video capture and close all windows\n",
    "video_capture.release()\n",
    "cv2.destroyAllWindows()"
   ]
  }
 ],
 "metadata": {
  "kernelspec": {
   "display_name": "Python 3 (ipykernel)",
   "language": "python",
   "name": "python3"
  },
  "language_info": {
   "codemirror_mode": {
    "name": "ipython",
    "version": 3
   },
   "file_extension": ".py",
   "mimetype": "text/x-python",
   "name": "python",
   "nbconvert_exporter": "python",
   "pygments_lexer": "ipython3",
   "version": "3.11.5"
  }
 },
 "nbformat": 4,
 "nbformat_minor": 5
}
