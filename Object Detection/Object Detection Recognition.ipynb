{
 "cells": [
  {
   "cell_type": "code",
   "execution_count": 1,
   "id": "902523c0",
   "metadata": {},
   "outputs": [
    {
     "name": "stdout",
     "output_type": "stream",
     "text": [
      "['person', 'bicycle', 'car', 'motorbike', 'aeroplane', 'bus', 'train', 'truck', 'boat', 'traffic light', 'fire hydrant', 'stop sign', 'parking meter', 'bench', 'bird', 'cat', 'dog', 'horse', 'sheep', 'cow', 'elephant', 'bear', 'zebra', 'giraffe', 'backpack', 'umbrella', 'handbag', 'tie', 'suitcase', 'frisbee', 'skis', 'snowboard', 'sports ball', 'kite', 'baseball bat', 'baseball glove', 'skateboard', 'surfboard', 'tennis racket', 'bottle', 'wine glass', 'cup', 'fork', 'knife', 'spoon', 'bowl', 'banana', 'apple', 'sandwich', 'orange', 'broccoli', 'carrot', 'hot dog', 'pizza', 'donut', 'cake', 'chair', 'sofa', 'pottedplant', 'bed', 'diningtable', 'toilet', 'tvmonitor', 'laptop', 'mouse', 'remote', 'keyboard', 'cell phone', 'microwave', 'oven', 'toaster', 'sink', 'refrigerator', 'book', 'clock', 'vase', 'scissors', 'teddy bear', 'hair drier', 'toothbrush', 'mobile phone']\n"
     ]
    }
   ],
   "source": [
    "import cv2\n",
    "\n",
    "config_model = 'ssd_mobilenet_v3_large_coco_2020_01_14.pbtxt'\n",
    "frozen_model = 'frozen_inference_graph .pb'\n",
    "file_name = 'labels.txt'\n",
    "#video_source = 'test1234.mp4'\n",
    "\n",
    "model = cv2.dnn.DetectionModel(frozen_model,config_model)\n",
    "\n",
    "class_labels = []\n",
    "\n",
    "with open(file_name, 'rt') as fpt:\n",
    "    class_labels = fpt.read().rstrip('\\n').split('\\n')\n",
    "\n",
    "print(class_labels)\n",
    "\n",
    "model.setInputSize(320,320)\n",
    "model.setInputScale(1.0/127.5)\n",
    "model.setInputSwapRB (True) # RGB --> BGR\n",
    "model.setInputMean((127.5,127.5,127.5))\n",
    "\n",
    "cap = cv2.VideoCapture('test1234.mp4')\n",
    "\n",
    "if not cap.isOpened():\n",
    "    cap = cv2.VideoCapture(0)\n",
    "\n",
    "if not cap.isOpened():\n",
    "    raise IOError(\"Cant play the video neither the Webcam\")\n",
    "\n",
    "font_size = 3\n",
    "font = cv2.FONT_HERSHEY_PLAIN\n",
    "\n",
    "while True:  # Removed the hidden non-printable character here\n",
    "    ret, frame = cap.read()\n",
    "    ClassIndex, confidence, bbox = model.detect(frame, confThreshold=0.55)\n",
    "    if (len(ClassIndex)!=0):\n",
    "        for classIdx, conf, boxes in zip(ClassIndex.flatten(), confidence.flatten(), bbox):\n",
    "            cv2.rectangle(frame, boxes, (255, 0, 0), 2)\n",
    "            cv2.putText(frame, class_labels[classIdx - 1], (boxes[0] + 10, boxes[1] + 20), font, fontScale=font_size,\n",
    "                        color=(0, 255, 0), thickness=3)\n",
    "        cv2.imshow('Object Detection', frame)\n",
    "        if cv2.waitKey(1) & 0xff == ord('q'):\n",
    "            break\n",
    "\n",
    "cap.release()\n",
    "cv2.destroyAllWindows()"
   ]
  },
  {
   "cell_type": "code",
   "execution_count": null,
   "id": "547a9b27",
   "metadata": {},
   "outputs": [],
   "source": []
  },
  {
   "cell_type": "code",
   "execution_count": null,
   "id": "b358f91b",
   "metadata": {},
   "outputs": [],
   "source": []
  }
 ],
 "metadata": {
  "kernelspec": {
   "display_name": "Python 3 (ipykernel)",
   "language": "python",
   "name": "python3"
  },
  "language_info": {
   "codemirror_mode": {
    "name": "ipython",
    "version": 3
   },
   "file_extension": ".py",
   "mimetype": "text/x-python",
   "name": "python",
   "nbconvert_exporter": "python",
   "pygments_lexer": "ipython3",
   "version": "3.11.5"
  }
 },
 "nbformat": 4,
 "nbformat_minor": 5
}
