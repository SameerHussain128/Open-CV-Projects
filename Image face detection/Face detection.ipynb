{
 "cells": [
  {
   "cell_type": "markdown",
   "id": "55b98718",
   "metadata": {},
   "source": [
    "# Image Face Recognition"
   ]
  },
  {
   "cell_type": "code",
   "execution_count": 1,
   "id": "f8fe21fc",
   "metadata": {},
   "outputs": [],
   "source": [
    "import cv2\n",
    "import face_recognition\n",
    "\n",
    "# Load the input image\n",
    "input_image = cv2.imread(\"india ct.jpeg\")\n",
    "\n",
    "# Convert the image from BGR color (OpenCV) to RGB color (face_recognition)\n",
    "rgb_image = cv2.cvtColor(input_image, cv2.COLOR_BGR2RGB)\n",
    "\n",
    "# Find face locations in the image\n",
    "face_locations = face_recognition.face_locations(rgb_image)\n",
    "\n",
    "# Draw bounding boxes around the faces\n",
    "for (top, right, bottom, left) in face_locations:\n",
    "    # Draw a rectangle around the face\n",
    "    cv2.rectangle(input_image, (left, top), (right, bottom), (0, 255, 0), 2)\n",
    "\n",
    "# Display the image with bounding boxes\n",
    "cv2.imshow(\"Face Recognition\", input_image)\n",
    "cv2.waitKey(0)\n",
    "cv2.destroyAllWindows()"
   ]
  },
  {
   "cell_type": "code",
   "execution_count": null,
   "id": "17518711",
   "metadata": {},
   "outputs": [],
   "source": []
  }
 ],
 "metadata": {
  "kernelspec": {
   "display_name": "Python 3 (ipykernel)",
   "language": "python",
   "name": "python3"
  },
  "language_info": {
   "codemirror_mode": {
    "name": "ipython",
    "version": 3
   },
   "file_extension": ".py",
   "mimetype": "text/x-python",
   "name": "python",
   "nbconvert_exporter": "python",
   "pygments_lexer": "ipython3",
   "version": "3.11.5"
  }
 },
 "nbformat": 4,
 "nbformat_minor": 5
}
